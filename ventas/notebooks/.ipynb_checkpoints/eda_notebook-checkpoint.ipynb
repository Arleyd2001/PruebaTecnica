{
 "cells": [
  {
   "cell_type": "code",
   "execution_count": null,
   "metadata": {},
   "outputs": [],
   "source": [
    "# Análisis Exploratorio de Datos (EDA)\n",
    "\n",
    "## Cargar el Archivo de Datos\n",
    "\n",
    "\n",
    "import pandas as pd\n",
    "import matplotlib.pyplot as plt\n",
    "import seaborn as sns\n",
    "\n",
    "# Cargar el archivo .parquet\n",
    "file_path = 'data\\Ventas.parquet'  # Ruta al archivo de datos\n",
    "df = pd.read_parquet(file_path)\n",
    "\n",
    "# Mostrar las primeras filas del DataFrame\n",
    "df.head()\n"
   ]
  }
 ],
 "metadata": {
  "language_info": {
   "name": "python"
  }
 },
 "nbformat": 4,
 "nbformat_minor": 2
}
